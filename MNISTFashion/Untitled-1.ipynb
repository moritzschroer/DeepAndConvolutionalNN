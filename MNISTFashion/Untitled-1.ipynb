{
 "cells": [
  {
   "cell_type": "code",
   "execution_count": 7,
   "metadata": {},
   "outputs": [
    {
     "ename": "AttributeError",
     "evalue": "'Functional' object has no attribute 'to_dot'",
     "output_type": "error",
     "traceback": [
      "\u001b[0;31m---------------------------------------------------------------------------\u001b[0m",
      "\u001b[0;31mAttributeError\u001b[0m                            Traceback (most recent call last)",
      "Cell \u001b[0;32mIn[7], line 21\u001b[0m\n\u001b[1;32m     18\u001b[0m model \u001b[38;5;241m=\u001b[39m Model(inputs\u001b[38;5;241m=\u001b[39minput_layer, outputs\u001b[38;5;241m=\u001b[39moutput_layer)\n\u001b[1;32m     20\u001b[0m \u001b[38;5;66;03m# Visualize the model\u001b[39;00m\n\u001b[0;32m---> 21\u001b[0m pydot_graph \u001b[38;5;241m=\u001b[39m pydot\u001b[38;5;241m.\u001b[39mgraph_from_dot_data(\u001b[43mmodel\u001b[49m\u001b[38;5;241;43m.\u001b[39;49m\u001b[43mto_dot\u001b[49m())[\u001b[38;5;241m0\u001b[39m]\n\u001b[1;32m     22\u001b[0m pydot_graph\u001b[38;5;241m.\u001b[39mset_dpi(\u001b[38;5;241m300\u001b[39m)\n\u001b[1;32m     23\u001b[0m pydot_graph\u001b[38;5;241m.\u001b[39mwrite_png(\u001b[38;5;124m'\u001b[39m\u001b[38;5;124mmodel.png\u001b[39m\u001b[38;5;124m'\u001b[39m)\n",
      "\u001b[0;31mAttributeError\u001b[0m: 'Functional' object has no attribute 'to_dot'"
     ]
    }
   ],
   "source": [
    "\n",
    "import pydot\n",
    "from tensorflow.keras.models import Model\n",
    "from tensorflow.keras.layers import Input, Conv2D, MaxPooling2D, Flatten, Dense\n",
    "\n",
    "# Define the model\n",
    "input_layer = Input(shape=(32, 32, 3))\n",
    "conv1 = Conv2D(64, (5, 5), padding='same', activation='elu')(input_layer)\n",
    "maxpool1 = MaxPooling2D(pool_size=(2, 2), strides=(2, 2))(conv1)\n",
    "conv2 = Conv2D(128, (5, 5), padding='same', activation='elu')(maxpool1)\n",
    "maxpool2 = MaxPooling2D(pool_size=(2, 2), strides=(2, 2))(conv2)\n",
    "conv3 = Conv2D(256, (5, 5), padding='same', activation='elu')(maxpool2)\n",
    "maxpool3 = MaxPooling2D(pool_size=(2, 2), strides=(2, 2))(conv3)\n",
    "flatten = Flatten()(maxpool3)\n",
    "dense1 = Dense(256, activation='elu')(flatten)\n",
    "output_layer = Dense(10, activation='softmax')(dense1)\n",
    "\n",
    "# Create the model\n",
    "model = Model(inputs=input_layer, outputs=output_layer)\n",
    "\n",
    "# Visualize the model\n",
    "pydot_graph = pydot.graph_from_dot_data(model.to_dot())[0]\n",
    "pydot_graph.set_dpi(300)\n",
    "pydot_graph.write_png('model.png')"
   ]
  }
 ],
 "metadata": {
  "kernelspec": {
   "display_name": "latestpython3",
   "language": "python",
   "name": "latestpython3"
  },
  "language_info": {
   "codemirror_mode": {
    "name": "ipython",
    "version": 3
   },
   "file_extension": ".py",
   "mimetype": "text/x-python",
   "name": "python",
   "nbconvert_exporter": "python",
   "pygments_lexer": "ipython3",
   "version": "3.10.11"
  }
 },
 "nbformat": 4,
 "nbformat_minor": 2
}
